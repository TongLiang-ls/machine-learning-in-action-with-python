{
 "cells": [
  {
   "cell_type": "code",
   "execution_count": 50,
   "metadata": {
    "ExecuteTime": {
     "end_time": "2019-01-04T04:06:15.424412Z",
     "start_time": "2019-01-04T04:06:15.334081Z"
    }
   },
   "outputs": [],
   "source": [
    "import numpy as np\n",
    "import pandas as pd\n",
    "import seaborn as sns\n",
    "import matplotlib.pyplot as plt\n",
    "import warnings\n",
    "warnings.filterwarnings(\"ignore\")"
   ]
  },
  {
   "cell_type": "code",
   "execution_count": 53,
   "metadata": {
    "ExecuteTime": {
     "end_time": "2019-01-04T04:06:43.180287Z",
     "start_time": "2019-01-04T04:06:43.111556Z"
    }
   },
   "outputs": [
    {
     "name": "stdout",
     "output_type": "stream",
     "text": [
      "Using matplotlib backend: Qt5Agg\n"
     ]
    }
   ],
   "source": [
    "#为了实现figure弹窗\n",
    "%matplotlib       "
   ]
  },
  {
   "cell_type": "code",
   "execution_count": 50,
   "metadata": {},
   "outputs": [],
   "source": [
    "def load_data(filename):\n",
    "    '''\n",
    "    读取txt文件\n",
    "    filename:文件路径+文件名；'./...'\n",
    "    output:ndarry数组\n",
    "    '''\n",
    "    dataset = []\n",
    "    with open(filename) as f:\n",
    "        file = f.readlines()#得到raw-list\n",
    "    for line in file:\n",
    "        lineArr = line.strip('\\n').split('\\t') #因为数据类型为'1.658985\\t4.285136\\n'\n",
    "        m = len(lineArr)\n",
    "        dataset.append(lineArr[0:m])\n",
    "    return np.array(dataset,dtype=np.float64)"
   ]
  },
  {
   "cell_type": "markdown",
   "metadata": {},
   "source": [
    ">精简版，使用pandas来进行处理"
   ]
  },
  {
   "cell_type": "code",
   "execution_count": 54,
   "metadata": {
    "ExecuteTime": {
     "end_time": "2019-01-04T04:07:24.289618Z",
     "start_time": "2019-01-04T04:07:24.159421Z"
    }
   },
   "outputs": [],
   "source": [
    "a = pd.read_csv('./testSet.txt',sep='\\t',names=['x0','x1'])#pandas操作要比书中源代码简洁快速多了"
   ]
  },
  {
   "cell_type": "code",
   "execution_count": 55,
   "metadata": {
    "ExecuteTime": {
     "end_time": "2019-01-04T04:07:26.868276Z",
     "start_time": "2019-01-04T04:07:25.436950Z"
    }
   },
   "outputs": [
    {
     "data": {
      "text/html": [
       "<div>\n",
       "<style scoped>\n",
       "    .dataframe tbody tr th:only-of-type {\n",
       "        vertical-align: middle;\n",
       "    }\n",
       "\n",
       "    .dataframe tbody tr th {\n",
       "        vertical-align: top;\n",
       "    }\n",
       "\n",
       "    .dataframe thead th {\n",
       "        text-align: right;\n",
       "    }\n",
       "</style>\n",
       "<table border=\"1\" class=\"dataframe\">\n",
       "  <thead>\n",
       "    <tr style=\"text-align: right;\">\n",
       "      <th></th>\n",
       "      <th>x0</th>\n",
       "      <th>x1</th>\n",
       "    </tr>\n",
       "  </thead>\n",
       "  <tbody>\n",
       "    <tr>\n",
       "      <th>34</th>\n",
       "      <td>4.372646</td>\n",
       "      <td>-0.822248</td>\n",
       "    </tr>\n",
       "    <tr>\n",
       "      <th>62</th>\n",
       "      <td>3.491078</td>\n",
       "      <td>-3.947487</td>\n",
       "    </tr>\n",
       "    <tr>\n",
       "      <th>7</th>\n",
       "      <td>-3.487105</td>\n",
       "      <td>-1.724432</td>\n",
       "    </tr>\n",
       "    <tr>\n",
       "      <th>41</th>\n",
       "      <td>-2.709034</td>\n",
       "      <td>2.923887</td>\n",
       "    </tr>\n",
       "  </tbody>\n",
       "</table>\n",
       "</div>"
      ],
      "text/plain": [
       "          x0        x1\n",
       "34  4.372646 -0.822248\n",
       "62  3.491078 -3.947487\n",
       "7  -3.487105 -1.724432\n",
       "41 -2.709034  2.923887"
      ]
     },
     "execution_count": 55,
     "metadata": {},
     "output_type": "execute_result"
    }
   ],
   "source": [
    "a.sample(4)"
   ]
  },
  {
   "cell_type": "code",
   "execution_count": 59,
   "metadata": {
    "ExecuteTime": {
     "end_time": "2019-01-04T04:07:48.449105Z",
     "start_time": "2019-01-04T04:07:48.349352Z"
    }
   },
   "outputs": [],
   "source": [
    "sns.lmplot('x0', 'x1',data=a,fit_reg=False,height=5)\n",
    "sns.despine(top=False,right=False)"
   ]
  },
  {
   "cell_type": "code",
   "execution_count": 57,
   "metadata": {},
   "outputs": [],
   "source": [
    "#计算距离\n",
    "def computeDistance(A,B):\n",
    "    '''\n",
    "    计算距离\n",
    "    '''\n",
    "    return np.sqrt(np.sum(np.square(A-B)))"
   ]
  },
  {
   "cell_type": "code",
   "execution_count": 83,
   "metadata": {},
   "outputs": [
    {
     "data": {
      "text/plain": [
       "array([45,  6, 76, 77])"
      ]
     },
     "execution_count": 83,
     "metadata": {},
     "output_type": "execute_result"
    }
   ],
   "source": [
    "np.random.choice(80,4)"
   ]
  },
  {
   "cell_type": "code",
   "execution_count": 84,
   "metadata": {},
   "outputs": [],
   "source": [
    "def randCentroids(x,k=4):\n",
    "    '''\n",
    "    初始化质心：从样本中随机选择k个作为质心\n",
    "    output:质心\n",
    "    '''\n",
    "    m,n = x.shape\n",
    "    centroids = np.zeros((k,n))\n",
    "    randIndex = np.random.choice(m,k)#随机抽k个值作为索引\n",
    "    centroids = x[randIndex]\n",
    "    return centroids"
   ]
  },
  {
   "cell_type": "markdown",
   "metadata": {},
   "source": [
    ">关于聚类中心初始化，操作就是从ndarray数组中随机取3行，就是对ndarray传入一个len=3的随机list\n"
   ]
  },
  {
   "cell_type": "markdown",
   "metadata": {},
   "source": [
    "## 用pandas来实现\n",
    "\n",
    "想做一个聚类算法演示图\n",
    "\n",
    "* 根据迭代次数，展示质心和算法的迭代过程，聚类过程\n",
    "    * 需要解决，如何话gif动图，如何计算每次k-means迭代\n",
    "    * 每次迭代点的类别，标记出，然后分别用不同颜色画出\n",
    "\n",
    ">k-means聚类算法的核心：将一组数据分成k个类，通过比较各个数据点和质心的距离，进行分类，并更新每个质心的坐标，直到各个点的类别稳定为止，停止迭代。\n",
    "\n",
    "* 随机选k个点作为质心\n",
    "* 计算每个点到k个质心点距离，将其分类到不同的簇中\n",
    "* 计算每个簇的均值，更新质心\n",
    "* 迭代，直到质心位置不变为止-->$ \\min_{c^{1}\\cdots c^{m};\\mu^{1}\\cdots \\mu_{k}} cost  J(c^{1},c^{2}\\cdots c^{m},\\mu_{1},\\mu_{2}\\cdots \\mu_{k})$\n",
    "\n",
    ">cost function怎么求？\n",
    "    1. 计算对应的簇的样本点和质点的2-范数。"
   ]
  },
  {
   "cell_type": "markdown",
   "metadata": {},
   "source": [
    ">大佬啊，np.apply_along_axis函数"
   ]
  },
  {
   "cell_type": "code",
   "execution_count": 16,
   "metadata": {
    "ExecuteTime": {
     "end_time": "2019-01-04T03:35:21.752048Z",
     "start_time": "2019-01-04T03:35:21.650079Z"
    }
   },
   "outputs": [],
   "source": [
    "#初始化质心\n",
    "def random_init(data,k):\n",
    "    '''\n",
    "    初始化质心\n",
    "    参数：\n",
    "        data:数据集-dataframe\n",
    "        k:聚类个数\n",
    "    返回：\n",
    "        质心数组-matrix\n",
    "    '''\n",
    "    return data.sample(k).as_matrix()\n",
    "\n",
    "#计算样本点距离最小值\n",
    "def _find_your_cluster(x, centroids):\n",
    "    \"\"\"\n",
    "    将一个样本点归类\n",
    "    参数:\n",
    "        x: 一个样本点\n",
    "        centroids:质心\n",
    "    返回:\n",
    "        k: 距离最小值\n",
    "    \"\"\"\n",
    "    distances = np.apply_along_axis(func1d=np.linalg.norm,  # 计算二范数np.linalg.norm\n",
    "                                    axis=1,\n",
    "                                    arr=centroids - x)  #利用np广播的特点\n",
    "    return np.argmin(distances)\n",
    "\n",
    "#样本点聚类\n",
    "def assign_cluster(data, centroids):\n",
    "    \"\"\"\n",
    "    将样本点归类\n",
    "    参数：\n",
    "        data:数据集\n",
    "        centroids:质心\n",
    "    返回：\n",
    "        类别数组C\n",
    "    \"\"\"\n",
    "    return np.apply_along_axis(lambda x: _find_your_cluster(x, centroids),\n",
    "                               axis=1,\n",
    "                               arr=data.as_matrix())#将所有样本点，进行归类\n",
    "\n",
    "#返回包含聚类后结果列的dataframe\n",
    "def combine_data_C(data, C):\n",
    "    data_with_c = data.copy()\n",
    "    data_with_c['C'] = C\n",
    "    return data_with_c\n",
    "\n",
    "\n",
    "#更新质心\n",
    "def new_centroids(data, C):\n",
    "    '''\n",
    "    更新质心\n",
    "    参数:\n",
    "        data:数据集\n",
    "        C:聚类后的类别列\n",
    "    返回:\n",
    "        计算每个簇的质心均值\n",
    "    '''\n",
    "    data_with_c = combine_data_C(data, C)\n",
    "    return data_with_c.groupby('C', as_index=False).\\\n",
    "                       mean().\\\n",
    "                       drop('C', axis=1).\\\n",
    "                       as_matrix()#将df按C分组计算行均值，之后删除C列，转化为矩阵\n",
    "\n",
    "#计算代价函数\n",
    "def cost(data, centroids, C):\n",
    "    '''\n",
    "    计算代价函数：\n",
    "        让所有数据点同它们对应的类别距离之和最小\n",
    "    参数：\n",
    "        data:数据集\n",
    "        centroids:质心\n",
    "        C:聚类类别\n",
    "    返回：\n",
    "        距离数值\n",
    "    '''\n",
    "    m = data.shape[0]\n",
    "\n",
    "    expand_C_with_centroids = centroids[C]#按聚类结果C扩展质心；为了和data相互匹配x^(i)-u^(i)，u^(i)质心\n",
    "\n",
    "    distances = np.apply_along_axis(func1d=np.linalg.norm,\n",
    "                                    axis=1,\n",
    "                                    arr=data.as_matrix() - expand_C_with_centroids)\n",
    "    return distances.sum() / m\n",
    "\n",
    "\n",
    "#k-means聚类算法\n",
    "def _k_means_iter(data, k, epoch=100, tol=0.0001):\n",
    "    \"\"\"\n",
    "    k-means迭代\n",
    "    one shot k-means\n",
    "    with early break\n",
    "    \"\"\"\n",
    "    centroids = random_init(data, k)#初始化随机质点\n",
    "    cost_progress = []#代价函数list\n",
    "\n",
    "    #收敛到最小值\n",
    "    for i in range(epoch):\n",
    "        print('running epoch {}'.format(i))\n",
    "\n",
    "        C = assign_cluster(data, centroids)#样本点归类\n",
    "        centroids = new_centroids(data, C)#更新质心\n",
    "        cost_progress.append(cost(data, centroids, C))#每次质心的cost\n",
    "\n",
    "        if len(cost_progress) > 1:  # early break\n",
    "            if (np.abs(cost_progress[-1] - cost_progress[-2])) / cost_progress[-1] < tol:\n",
    "                break\n",
    "\n",
    "    return C, centroids, cost_progress[-1]\n",
    "\n",
    "\n",
    "#多次随机初始化\n",
    "def k_means(data, k, epoch=100, n_init=10):\n",
    "    \"\"\"\n",
    "    多次随机初始化取最好的结果返回\n",
    "    参数:\n",
    "        data (pd.DataFrame)\n",
    "    返回:\n",
    "        (C, centroids, least_cost)\n",
    "    \"\"\"\n",
    "\n",
    "    tries = np.array([_k_means_iter(data, k, epoch) for _ in range(n_init)])\n",
    "\n",
    "    least_cost_idx = np.argmin(tries[:, -1])#最后一列，是cost值，返回其中最小值\n",
    "\n",
    "    return tries[least_cost_idx]"
   ]
  },
  {
   "cell_type": "markdown",
   "metadata": {},
   "source": [
    "### 第一次迭代"
   ]
  },
  {
   "cell_type": "code",
   "execution_count": 5,
   "metadata": {},
   "outputs": [
    {
     "data": {
      "text/html": [
       "<div>\n",
       "<style scoped>\n",
       "    .dataframe tbody tr th:only-of-type {\n",
       "        vertical-align: middle;\n",
       "    }\n",
       "\n",
       "    .dataframe tbody tr th {\n",
       "        vertical-align: top;\n",
       "    }\n",
       "\n",
       "    .dataframe thead th {\n",
       "        text-align: right;\n",
       "    }\n",
       "</style>\n",
       "<table border=\"1\" class=\"dataframe\">\n",
       "  <thead>\n",
       "    <tr style=\"text-align: right;\">\n",
       "      <th></th>\n",
       "      <th>x0</th>\n",
       "      <th>x1</th>\n",
       "    </tr>\n",
       "  </thead>\n",
       "  <tbody>\n",
       "    <tr>\n",
       "      <th>0</th>\n",
       "      <td>1.658985</td>\n",
       "      <td>4.285136</td>\n",
       "    </tr>\n",
       "    <tr>\n",
       "      <th>1</th>\n",
       "      <td>-3.453687</td>\n",
       "      <td>3.424321</td>\n",
       "    </tr>\n",
       "    <tr>\n",
       "      <th>2</th>\n",
       "      <td>4.838138</td>\n",
       "      <td>-1.151539</td>\n",
       "    </tr>\n",
       "    <tr>\n",
       "      <th>3</th>\n",
       "      <td>-5.379713</td>\n",
       "      <td>-3.362104</td>\n",
       "    </tr>\n",
       "    <tr>\n",
       "      <th>4</th>\n",
       "      <td>0.972564</td>\n",
       "      <td>2.924086</td>\n",
       "    </tr>\n",
       "  </tbody>\n",
       "</table>\n",
       "</div>"
      ],
      "text/plain": [
       "         x0        x1\n",
       "0  1.658985  4.285136\n",
       "1 -3.453687  3.424321\n",
       "2  4.838138 -1.151539\n",
       "3 -5.379713 -3.362104\n",
       "4  0.972564  2.924086"
      ]
     },
     "execution_count": 5,
     "metadata": {},
     "output_type": "execute_result"
    }
   ],
   "source": [
    "a.head()"
   ]
  },
  {
   "cell_type": "code",
   "execution_count": 6,
   "metadata": {},
   "outputs": [],
   "source": [
    "centroids = a.sample(4).as_matrix()         #初始化质心"
   ]
  },
  {
   "cell_type": "code",
   "execution_count": 7,
   "metadata": {},
   "outputs": [
    {
     "data": {
      "text/plain": [
       "array([[ 2.329546,  3.179764],\n",
       "       [ 2.668759,  1.594842],\n",
       "       [-0.39237 , -3.963704],\n",
       "       [ 2.280615, -2.559444]])"
      ]
     },
     "execution_count": 7,
     "metadata": {},
     "output_type": "execute_result"
    }
   ],
   "source": [
    "centroids"
   ]
  },
  {
   "cell_type": "code",
   "execution_count": 8,
   "metadata": {},
   "outputs": [],
   "source": [
    "C = assign_cluster(a,centroids)   #每个样本归类"
   ]
  },
  {
   "cell_type": "code",
   "execution_count": 9,
   "metadata": {},
   "outputs": [],
   "source": [
    "dt = combine_data_C(a,C)    #归类后的数据集"
   ]
  },
  {
   "cell_type": "code",
   "execution_count": 10,
   "metadata": {},
   "outputs": [
    {
     "data": {
      "text/plain": [
       "array([[-0.17746937,  3.16790709],\n",
       "       [ 3.0475435 ,  1.56481175],\n",
       "       [-2.99723017, -2.84727778],\n",
       "       [ 3.03713839, -2.62802833]])"
      ]
     },
     "execution_count": 10,
     "metadata": {},
     "output_type": "execute_result"
    }
   ],
   "source": [
    "new_centroids(a,C)      #新质心"
   ]
  },
  {
   "cell_type": "code",
   "execution_count": 11,
   "metadata": {},
   "outputs": [
    {
     "data": {
      "text/plain": [
       "2.5915342806611252"
      ]
     },
     "execution_count": 11,
     "metadata": {},
     "output_type": "execute_result"
    }
   ],
   "source": [
    "cost(a,centroids,C)"
   ]
  },
  {
   "cell_type": "code",
   "execution_count": 15,
   "metadata": {
    "scrolled": false
   },
   "outputs": [
    {
     "name": "stdout",
     "output_type": "stream",
     "text": [
      "running epoch 0\n",
      "running epoch 1\n",
      "running epoch 2\n",
      "running epoch 3\n",
      "running epoch 4\n"
     ]
    },
    {
     "data": {
      "text/plain": [
       "(array([3, 3, 2, 0, 3, 3, 1, 0, 3, 3, 2, 0, 3, 3, 2, 1, 3, 3, 2, 0, 3, 3,\n",
       "        2, 0, 3, 3, 2, 0, 3, 3, 1, 0, 3, 3, 2, 0, 3, 3, 2, 0, 3, 3, 2, 1,\n",
       "        3, 3, 2, 0, 3, 3, 2, 0, 3, 3, 2, 0, 3, 3, 2, 0, 3, 3, 2, 0, 3, 3,\n",
       "        2, 0, 3, 3, 2, 0, 2, 3, 2, 0, 3, 3, 2, 0]),\n",
       " array([[-3.61853111, -2.81946867],\n",
       "        [-0.28093075, -3.880518  ],\n",
       "        [ 3.09814284, -2.43041226],\n",
       "        [-0.02298687,  2.99472915]]),\n",
       " 1.9025429094043182)"
      ]
     },
     "execution_count": 15,
     "metadata": {},
     "output_type": "execute_result"
    }
   ],
   "source": [
    "_k_means_iter(a,4)  #一次随机质心"
   ]
  },
  {
   "cell_type": "markdown",
   "metadata": {},
   "source": [
    "### 多次质心迭代"
   ]
  },
  {
   "cell_type": "code",
   "execution_count": 21,
   "metadata": {
    "ExecuteTime": {
     "end_time": "2019-01-04T03:35:57.244350Z",
     "start_time": "2019-01-04T03:35:53.225578Z"
    }
   },
   "outputs": [
    {
     "name": "stdout",
     "output_type": "stream",
     "text": [
      "running epoch 0\n",
      "running epoch 1\n",
      "running epoch 2\n",
      "running epoch 3\n",
      "running epoch 4\n",
      "running epoch 5\n",
      "running epoch 6\n",
      "running epoch 7\n",
      "running epoch 8\n",
      "running epoch 9\n",
      "running epoch 0\n",
      "running epoch 1\n",
      "running epoch 2\n",
      "running epoch 3\n",
      "running epoch 4\n",
      "running epoch 5\n",
      "running epoch 6\n",
      "running epoch 0\n",
      "running epoch 1\n",
      "running epoch 2\n",
      "running epoch 3\n",
      "running epoch 0\n",
      "running epoch 1\n",
      "running epoch 2\n",
      "running epoch 3\n",
      "running epoch 0\n",
      "running epoch 1\n",
      "running epoch 2\n",
      "running epoch 3\n",
      "running epoch 4\n",
      "running epoch 5\n",
      "running epoch 6\n",
      "running epoch 0\n",
      "running epoch 1\n",
      "running epoch 2\n",
      "running epoch 3\n",
      "running epoch 0\n",
      "running epoch 1\n",
      "running epoch 2\n",
      "running epoch 3\n",
      "running epoch 4\n",
      "running epoch 5\n",
      "running epoch 6\n",
      "running epoch 7\n",
      "running epoch 8\n",
      "running epoch 9\n",
      "running epoch 0\n",
      "running epoch 1\n",
      "running epoch 2\n",
      "running epoch 3\n",
      "running epoch 0\n",
      "running epoch 1\n",
      "running epoch 2\n",
      "running epoch 3\n",
      "running epoch 4\n",
      "running epoch 5\n",
      "running epoch 6\n",
      "running epoch 0\n",
      "running epoch 1\n",
      "running epoch 2\n",
      "running epoch 3\n",
      "running epoch 4\n",
      "running epoch 5\n",
      "running epoch 6\n"
     ]
    },
    {
     "data": {
      "text/plain": [
       "array([array([3, 0, 1, 2, 3, 0, 1, 2, 3, 0, 1, 2, 3, 0, 1, 1, 3, 0, 1, 2, 3, 0,\n",
       "       1, 2, 3, 0, 1, 2, 3, 0, 1, 2, 3, 0, 1, 2, 3, 0, 1, 2, 3, 0, 1, 2,\n",
       "       3, 0, 1, 2, 3, 0, 1, 2, 3, 0, 1, 2, 3, 0, 1, 2, 3, 0, 1, 2, 3, 0,\n",
       "       1, 2, 3, 0, 1, 2, 3, 0, 1, 2, 3, 0, 1, 2]),\n",
       "       array([[-2.46154315,  2.78737555],\n",
       "       [ 2.65077367, -2.79019029],\n",
       "       [-3.53973889, -2.89384326],\n",
       "       [ 2.6265299 ,  3.10868015]]),\n",
       "       1.1675654672086733], dtype=object)"
      ]
     },
     "execution_count": 21,
     "metadata": {},
     "output_type": "execute_result"
    }
   ],
   "source": [
    "k_means(a,4)        #多次随机质心"
   ]
  },
  {
   "cell_type": "code",
   "execution_count": 22,
   "metadata": {
    "ExecuteTime": {
     "end_time": "2019-01-04T03:36:09.573972Z",
     "start_time": "2019-01-04T03:35:58.086759Z"
    }
   },
   "outputs": [
    {
     "name": "stdout",
     "output_type": "stream",
     "text": [
      "running epoch 0\n",
      "running epoch 1\n",
      "running epoch 2\n",
      "running epoch 3\n",
      "running epoch 0\n",
      "running epoch 1\n",
      "running epoch 2\n",
      "running epoch 3\n",
      "running epoch 4\n",
      "running epoch 5\n",
      "running epoch 6\n",
      "running epoch 0\n",
      "running epoch 1\n",
      "running epoch 2\n",
      "running epoch 3\n",
      "running epoch 0\n",
      "running epoch 1\n",
      "running epoch 2\n",
      "running epoch 3\n",
      "running epoch 0\n",
      "running epoch 1\n",
      "running epoch 2\n",
      "running epoch 3\n",
      "running epoch 4\n",
      "running epoch 0\n",
      "running epoch 1\n",
      "running epoch 2\n",
      "running epoch 3\n",
      "running epoch 4\n",
      "running epoch 5\n",
      "running epoch 6\n",
      "running epoch 0\n",
      "running epoch 1\n",
      "running epoch 2\n",
      "running epoch 3\n",
      "running epoch 0\n",
      "running epoch 1\n",
      "running epoch 2\n",
      "running epoch 3\n",
      "running epoch 0\n",
      "running epoch 1\n",
      "running epoch 2\n",
      "running epoch 3\n",
      "running epoch 4\n",
      "running epoch 5\n",
      "running epoch 0\n",
      "running epoch 1\n",
      "running epoch 2\n",
      "running epoch 3\n",
      "running epoch 4\n",
      "running epoch 5\n",
      "running epoch 6\n",
      "running epoch 7\n",
      "running epoch 8\n",
      "running epoch 9\n",
      "running epoch 10\n",
      "running epoch 11\n"
     ]
    }
   ],
   "source": [
    "result = k_means(a,4)  "
   ]
  },
  {
   "cell_type": "markdown",
   "metadata": {},
   "source": [
    "###  每次迭代保存结果\n",
    "获得每次迭代的结果，来可视化迭代的过程"
   ]
  },
  {
   "cell_type": "code",
   "execution_count": 35,
   "metadata": {
    "ExecuteTime": {
     "end_time": "2019-01-04T03:56:33.680382Z",
     "start_time": "2019-01-04T03:56:33.548607Z"
    }
   },
   "outputs": [],
   "source": [
    "#k-means聚类算法\n",
    "def _k_means_iter_each(data, k, epoch=100, tol=0.0001):\n",
    "    \"\"\"\n",
    "    保存每个k-means迭代的分类结果\n",
    "    参数：\n",
    "        data:数据集\n",
    "        k:聚类簇数量\n",
    "    返回：\n",
    "        每个分类C，质心，以及cost\n",
    "    \"\"\"\n",
    "    centroids = random_init(data, k)#初始化随机质点\n",
    "    cost_progress = []#代价函数list\n",
    "    \n",
    "    '''\n",
    "    #添加list，来保存每次迭代的结果\n",
    "    '''\n",
    "    each_C = []\n",
    "    each_centroids = []\n",
    "    \n",
    "    #收敛到最小值\n",
    "    for i in range(epoch):\n",
    "        print('running epoch {}'.format(i))\n",
    "\n",
    "        C = assign_cluster(data, centroids)#样本点归类\n",
    "        centroids = new_centroids(data, C)#更新质心\n",
    "        cost_progress.append(cost(data, centroids, C))#每次质心的cost\n",
    "        each_C.append(C)\n",
    "        each_centroids.append(centroids)\n",
    "\n",
    "        if len(cost_progress) > 1:  # early break\n",
    "            if (np.abs(cost_progress[-1] - cost_progress[-2])) / cost_progress[-1] < tol:\n",
    "                break\n",
    "\n",
    "    return each_C, each_centroids, cost_progress"
   ]
  },
  {
   "cell_type": "code",
   "execution_count": 36,
   "metadata": {
    "ExecuteTime": {
     "end_time": "2019-01-04T03:56:40.832468Z",
     "start_time": "2019-01-04T03:56:35.562668Z"
    }
   },
   "outputs": [],
   "source": [
    "def get_data(a,k):\n",
    "    '''\n",
    "    得到每次迭代的结果\n",
    "    参数：\n",
    "        a:原数据集\n",
    "        k:质心数量\n",
    "    返回：\n",
    "        迭代结果的list\n",
    "    '''\n",
    "    result = _k_means_iter_each(a,k)#每次迭代的数据结果\n",
    "    C = result[0]\n",
    "    mid = []\n",
    "    for i in C:\n",
    "        b = a.copy()\n",
    "        dt = combine_data_C(b,i)\n",
    "        mid.append(dt)\n",
    "    return mid"
   ]
  },
  {
   "cell_type": "code",
   "execution_count": 44,
   "metadata": {
    "ExecuteTime": {
     "end_time": "2019-01-04T03:59:58.462796Z",
     "start_time": "2019-01-04T03:59:58.455351Z"
    }
   },
   "outputs": [],
   "source": [
    "def draw_gif():\n",
    "    '''\n",
    "    画gif图\n",
    "    将每次迭代的结果保存为png，再调用imageio生成Gif。\n",
    "    '''\n",
    "    import matplotlib.pyplot as plt\n",
    "    import imageio,os\n",
    "    re = get_data(a,4)\n",
    "    co = sns.color_palette(\"RdBu\",4)\n",
    "    #保存每个epoch结果\n",
    "    for i in range(len(re)):\n",
    "        sns.relplot('x0','x1',data=re[i],hue='C',palette=co);\n",
    "        plt.savefig(\"fig\"+str(i)+\".png\",dpi = 100)\n",
    "        \n",
    "    #做gif图\n",
    "    images = []\n",
    "    filenames=sorted((fn for fn in os.listdir('.') if fn.endswith('.png')))\n",
    "    for filename in filenames:\n",
    "        images.append(imageio.imread(filename))\n",
    "    imageio.mimsave('gif.gif', images,duration=1)"
   ]
  },
  {
   "cell_type": "code",
   "execution_count": 45,
   "metadata": {
    "ExecuteTime": {
     "end_time": "2019-01-04T04:00:18.496758Z",
     "start_time": "2019-01-04T03:59:59.942404Z"
    }
   },
   "outputs": [
    {
     "name": "stdout",
     "output_type": "stream",
     "text": [
      "running epoch 0\n",
      "running epoch 1\n",
      "running epoch 2\n",
      "running epoch 3\n",
      "running epoch 4\n",
      "running epoch 0\n",
      "running epoch 1\n",
      "running epoch 2\n",
      "running epoch 3\n",
      "running epoch 4\n",
      "running epoch 5\n",
      "running epoch 6\n",
      "running epoch 0\n",
      "running epoch 1\n",
      "running epoch 2\n",
      "running epoch 3\n",
      "running epoch 4\n",
      "running epoch 5\n",
      "running epoch 6\n",
      "running epoch 0\n",
      "running epoch 1\n",
      "running epoch 2\n",
      "running epoch 3\n",
      "running epoch 4\n",
      "running epoch 5\n",
      "running epoch 6\n",
      "running epoch 7\n",
      "running epoch 8\n",
      "running epoch 9\n",
      "running epoch 0\n",
      "running epoch 1\n",
      "running epoch 2\n",
      "running epoch 3\n",
      "running epoch 0\n",
      "running epoch 1\n",
      "running epoch 2\n",
      "running epoch 3\n",
      "running epoch 0\n",
      "running epoch 1\n",
      "running epoch 2\n",
      "running epoch 0\n",
      "running epoch 1\n",
      "running epoch 2\n",
      "running epoch 3\n",
      "running epoch 4\n",
      "running epoch 5\n",
      "running epoch 6\n",
      "running epoch 7\n",
      "running epoch 8\n",
      "running epoch 0\n",
      "running epoch 1\n",
      "running epoch 2\n",
      "running epoch 3\n",
      "running epoch 0\n",
      "running epoch 1\n",
      "running epoch 2\n",
      "running epoch 3\n",
      "running epoch 4\n"
     ]
    }
   ],
   "source": [
    "for i in range(10):\n",
    "    draw_gif()"
   ]
  },
  {
   "cell_type": "code",
   "execution_count": null,
   "metadata": {},
   "outputs": [],
   "source": []
  }
 ],
 "metadata": {
  "kernelspec": {
   "display_name": "Python 3",
   "language": "python",
   "name": "python3"
  },
  "language_info": {
   "codemirror_mode": {
    "name": "ipython",
    "version": 3
   },
   "file_extension": ".py",
   "mimetype": "text/x-python",
   "name": "python",
   "nbconvert_exporter": "python",
   "pygments_lexer": "ipython3",
   "version": "3.6.6"
  },
  "toc": {
   "base_numbering": 1,
   "nav_menu": {},
   "number_sections": true,
   "sideBar": true,
   "skip_h1_title": false,
   "title_cell": "Table of Contents",
   "title_sidebar": "Contents",
   "toc_cell": false,
   "toc_position": {},
   "toc_section_display": true,
   "toc_window_display": false
  }
 },
 "nbformat": 4,
 "nbformat_minor": 1
}
