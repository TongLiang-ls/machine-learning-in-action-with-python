{
 "cells": [
  {
   "cell_type": "markdown",
   "metadata": {},
   "source": [
    "# 逻辑回归\n",
    ">sigomoid function: $\\frac{1}{1+e^{-\\omega^Tx}}$\n",
    "\n",
    "用梯度上升算法来求参数,求函数的最大值。\n",
    "\n",
    "迭代步骤：$$\\theta :=\\theta+\\alpha \\cdot \\nabla F(\\omega) $$\n",
    "\n",
    "## 训练算法：求参数"
   ]
  },
  {
   "cell_type": "markdown",
   "metadata": {},
   "source": [
    ">主要步骤如下：\n",
    "* 将数据转化成矩阵\n",
    "* 求梯度"
   ]
  },
  {
   "cell_type": "code",
   "execution_count": 1,
   "metadata": {},
   "outputs": [],
   "source": [
    "from numpy import *\n",
    "def loadData(filename):\n",
    "    '''\n",
    "    读取文件\n",
    "    '''\n",
    "    datamat = []; labelmat = []\n",
    "    with open(filename) as f:\n",
    "        for line in f.readlines():\n",
    "            line_arr = line.strip().split()\n",
    "            #有1.0是因为有一个常数项\n",
    "            datamat.append([1.0, float(line_arr[0]), float(line_arr[1])])\n",
    "            labelmat.append(int(line_arr[2]))\n",
    "    return datamat, labelmat"
   ]
  },
  {
   "cell_type": "code",
   "execution_count": 2,
   "metadata": {},
   "outputs": [],
   "source": [
    "datamat,labelmat = loadData('testSet.txt')"
   ]
  },
  {
   "cell_type": "code",
   "execution_count": 213,
   "metadata": {},
   "outputs": [],
   "source": [
    "def sigmoid(inX):\n",
    "    '''\n",
    "    sigmoid函数\n",
    "    -inX:-wT·x\n",
    "    '''\n",
    "    return 1.0/(1+exp(-inX))"
   ]
  },
  {
   "cell_type": "code",
   "execution_count": 4,
   "metadata": {},
   "outputs": [],
   "source": [
    "def gradAscent(dataMatIn,classLabels):\n",
    "    '''\n",
    "    梯度上升算法\n",
    "    dataMatIn:训练样本\n",
    "    classLabels:标签\n",
    "    '''\n",
    "    dataMatrix = mat(dataMatIn)\n",
    "    labelMat = mat(classLabels).transpose()\n",
    "    m,n = shape(dataMatrix)\n",
    "    alpha = 0.001\n",
    "    maxCycles = 500\n",
    "    #weights are parameters' vector\n",
    "    weights = ones((n,1))\n",
    "    for k in range(maxCycles):\n",
    "        h = sigmoid(dataMatrix*weights)\n",
    "        error = (labelMat - h)\n",
    "        #推导过程如下:\n",
    "        weights = weights +alpha*dataMatrix.transpose()*error\n",
    "    return weights"
   ]
  },
  {
   "cell_type": "markdown",
   "metadata": {},
   "source": [
    "推导：因为代价函数的梯度已知:\n",
    "\n",
    "\\begin{align}\n",
    "\\nabla F(\\omega)&=\\sum_{n=1}^{N}(y_{n}-sigmoid)x_n\\\\\n",
    "&=\\sum_{n=1}^{N}(y_n-h) \\cdot x_n\\\\\n",
    "& = \\sum_{n=1}^{N}(error)\\cdot x_n\\\\\n",
    "\\end{align}"
   ]
  },
  {
   "cell_type": "code",
   "execution_count": 5,
   "metadata": {},
   "outputs": [],
   "source": [
    "weights = gradAscent(datamat,labelmat)"
   ]
  },
  {
   "cell_type": "code",
   "execution_count": 6,
   "metadata": {},
   "outputs": [],
   "source": [
    "import matplotlib\n",
    "import matplotlib.pyplot as plt\n",
    "from numpy import *\n",
    "\n",
    "def plot_fit(data, labelMat, weights):\n",
    "    '''\n",
    "    画图，得到分界线\n",
    "    data:训练样本\n",
    "    labelMat:标签矩阵\n",
    "    '''\n",
    "    dataArr = array(data)\n",
    "    n = shape(dataArr)[0]\n",
    "    \n",
    "    x_cord1 = []; y_cord1 = []\n",
    "    x_cord2 = []; y_cord2 = []\n",
    "    for i in range(n):  \n",
    "        if int(labelMat[i]) == 1:  \n",
    "            x_cord1.append(dataArr[i,1]); y_cord1.append(dataArr[i,2])  \n",
    "        else: x_cord2.append(dataArr[i,1]); y_cord2.append(dataArr[i,2])  \n",
    "    \n",
    "    fig = plt.figure()\n",
    "    ax = fig.add_subplot(111)  \n",
    "    ax.scatter(x_cord1, y_cord1, s = 30, c = 'red', marker='s')  \n",
    "    ax.scatter(x_cord2, y_cord2, s = 30, c = 'green')  \n",
    "    \n",
    "    x = arange(-3.0, 3.0, 0.1)  \n",
    "    y = ((-weights[0]- weights[1] * x)/weights[2]).transpose()\n",
    "    ax.plot(x, y)  \n",
    "    plt.xlabel('X1');  \n",
    "    plt.ylabel('X2');  \n",
    "    plt.show()  "
   ]
  },
  {
   "cell_type": "code",
   "execution_count": 7,
   "metadata": {},
   "outputs": [
    {
     "data": {
      "image/png": "[encoded data removed]",
      "text/plain": [
       "<Figure size 432x288 with 1 Axes>"
      ]
     },
     "metadata": {},
     "output_type": "display_data"
    }
   ],
   "source": [
    "plot_fit(datamat,labelmat,weights)"
   ]
  },
  {
   "cell_type": "markdown",
   "metadata": {},
   "source": [
    ">梯度下降法分类效果还可以，100个样本分类错误4个，但是计算量太大了，计算了300次乘法，需要进一步改进算法。\n",
    "\n",
    "## 随机梯度上升\n",
    "梯度上升每次更新回归系数，都需要遍历整个数据集，一旦特征数量很大，计算复杂度太高了，改进方法叫随机梯度上升算法，每次选择一个样本点来更新回归系数"
   ]
  },
  {
   "cell_type": "code",
   "execution_count": 20,
   "metadata": {},
   "outputs": [],
   "source": [
    "def stocGradAscent0(dataMatrix,classLabels):\n",
    "    '''\n",
    "    随机梯度上升算法\n",
    "    dataMatrix:训练样本\n",
    "    calssLabels:标签\n",
    "    output:参数值\n",
    "    '''\n",
    "    m,n = shape(dataMatrix)\n",
    "    alpha = 0.01\n",
    "    weights = ones(n)\n",
    "    for i in range(m):\n",
    "        h = sigmoid(sum(dataMatrix[i]*weights))\n",
    "        error = classLabels[i] - h\n",
    "        weights = weights + alpha*error*array(dataMatrix[i])\n",
    "    return weights"
   ]
  },
  {
   "cell_type": "code",
   "execution_count": 21,
   "metadata": {},
   "outputs": [],
   "source": [
    "weight2 = stocGradAscent0(datamat,labelmat)"
   ]
  },
  {
   "cell_type": "markdown",
   "metadata": {},
   "source": [
    "推导过程：\n",
    "\\begin{align}\n",
    "\\nabla F(\\omega)&=N\\cdot (y_{i}-sigmoid)x_i\\\\\n",
    "& = N\\cdot (error)\\cdot x_i\\\\\n",
    "\\end{align}\n"
   ]
  },
  {
   "cell_type": "code",
   "execution_count": 22,
   "metadata": {},
   "outputs": [
    {
     "data": {
      "image/png": "[encoded data removed]",
      "text/plain": [
       "<Figure size 432x288 with 1 Axes>"
      ]
     },
     "metadata": {},
     "output_type": "display_data"
    }
   ],
   "source": [
    "plot_fit(datamat,labelmat,weight2)"
   ]
  },
  {
   "cell_type": "markdown",
   "metadata": {},
   "source": [
    ">结果显示分类效果比较差，是因为迭代次数不确定导致参数还未达到稳定。可以对上述代码进行进一步修改"
   ]
  },
  {
   "cell_type": "code",
   "execution_count": 23,
   "metadata": {},
   "outputs": [
    {
     "data": {
      "text/plain": [
       "'\\n1.不明白为什么每次需要调整alpha\\n2.随机选择样本可以减少周期波动\\n'"
      ]
     },
     "execution_count": 23,
     "metadata": {},
     "output_type": "execute_result"
    }
   ],
   "source": [
    "def stocGradAscent1(dataMatrix,classLabels,numIter = 150):\n",
    "    '''\n",
    "    改进的随机梯度上升算法\n",
    "    '''\n",
    "    m,n = shape(dataMatrix)\n",
    "    weights = ones(n)\n",
    "    #迭代次数\n",
    "    for j in range(numIter):\n",
    "        dataIndex = range(m)\n",
    "        #样本数量\n",
    "        for i in range(m):\n",
    "            #每次调整a，why?\n",
    "            alpha = 0.01+4/(1.0+j+i)\n",
    "            #uniform-->生成[x,y)之间的随机实数\n",
    "            randIndex = int(random.uniform(0,len(dataIndex)))\n",
    "            h = sigmoid(sum(dataMatrix[randIndex]*weights))\n",
    "            error = classLabels[randIndex] -h\n",
    "            weights = weights + alpha*error*array(dataMatrix[randIndex])\n",
    "    return weights\n",
    "'''\n",
    "1.不明白为什么每次需要调整alpha\n",
    "2.随机选择样本可以减少周期波动\n",
    "'''"
   ]
  },
  {
   "cell_type": "code",
   "execution_count": 24,
   "metadata": {},
   "outputs": [],
   "source": [
    "weights3 = stocGradAscent1(datamat,labelmat,10)"
   ]
  },
  {
   "cell_type": "code",
   "execution_count": 25,
   "metadata": {},
   "outputs": [
    {
     "data": {
      "image/png": "[encoded data removed]",
      "text/plain": [
       "<Figure size 432x288 with 1 Axes>"
      ]
     },
     "metadata": {},
     "output_type": "display_data"
    }
   ],
   "source": [
    "plot_fit(datamat,labelmat,weights3)"
   ]
  },
  {
   "cell_type": "markdown",
   "metadata": {},
   "source": [
    "## 疝气病预测病马死亡率\n",
    "用医院检测疝气病的指标，来预测病马的死亡率"
   ]
  },
  {
   "cell_type": "markdown",
   "metadata": {},
   "source": [
    "> 数据预处理：缺失值处理\n",
    "* 用特征均值填补\n",
    "* 用特殊值填补，比如-1\n",
    "* 忽略这部分样本\n",
    "* 用类似样本均值填补\n",
    "* 用机器学习算法来预测\n",
    "\n",
    "具体做法：\n",
    "1. 选一个实数值替换，选0\n",
    "2. 标签缺失，需要丢弃数据\n",
    "\n",
    "[数据来源](http://archive.ics.uci.edu/ml/datasets/Horse+Colic)"
   ]
  },
  {
   "cell_type": "code",
   "execution_count": 185,
   "metadata": {},
   "outputs": [],
   "source": [
    "def getDateSet(filepath):\n",
    "    '''\n",
    "    获得训练集和测试集\n",
    "    '''\n",
    "    import numpy as np\n",
    "    \n",
    "    with open(filepath) as f:\n",
    "        file = f.readlines()\n",
    "        arr = []\n",
    "        dataSet = [];Labels=[]#训练集和标签集\n",
    "        for x in file:\n",
    "            mid = x.strip().split('\\t')\n",
    "            vector = list(map(lambda x:float(x),mid))\n",
    "            arr.append(vector)\n",
    "            #用numpy提取数据集以及标签集,加一个x0项\n",
    "            mid2 = np.array(arr)\n",
    "        x0 = array([1]*len(file))\n",
    "        dataSet = np.column_stack((x0,mid2[:,:-1]))\n",
    "        Labels =mid2[:,-1] \n",
    "    return dataSet,Labels"
   ]
  },
  {
   "cell_type": "code",
   "execution_count": 186,
   "metadata": {},
   "outputs": [],
   "source": [
    "trainingdataSet,trainingLabels = getDateSet('./horseColicTraining.txt')\n",
    "testdataSet,testLabels = getDateSet('./horseColicTest.txt')"
   ]
  },
  {
   "cell_type": "code",
   "execution_count": 275,
   "metadata": {},
   "outputs": [
    {
     "data": {
      "text/plain": [
       "array([ 2.88523241e+00,  4.60371241e+01, -3.44351209e+00,  1.81776542e+00,\n",
       "       -1.22312262e+00, -4.51162382e-02, -1.26815180e+01, -5.19715412e+00,\n",
       "       -1.62249176e+01,  1.69815852e+00, -1.42154178e+01,  2.51022948e+01,\n",
       "       -1.01675395e+01,  3.62858014e+01, -5.73351142e+00, -7.52889830e+00,\n",
       "        8.52370700e+00, -9.93327494e+00, -1.10860304e+00,  1.43608141e+00,\n",
       "       -2.06483905e+00, -5.98332914e+00])"
      ]
     },
     "execution_count": 275,
     "metadata": {},
     "output_type": "execute_result"
    }
   ],
   "source": [
    "stocGradAscent1(trainingdataSet,trainingLabels,500)"
   ]
  },
  {
   "cell_type": "code",
   "execution_count": 276,
   "metadata": {},
   "outputs": [],
   "source": [
    "#得到参数\n",
    "weights = stocGradAscent1(trainingdataSet,trainingLabels,500)\n",
    "#测试，计算w^tx\n",
    "result = mat(testdataSet)*mat(weights).T"
   ]
  },
  {
   "cell_type": "code",
   "execution_count": 277,
   "metadata": {},
   "outputs": [],
   "source": [
    "#sigmoid参数z,是-w^Tx的计算结果，sig\n",
    "z = result.tolist()\n",
    "sig = list(map(lambda x:sigmoid(x[0]),result.tolist()))\n",
    "\n",
    "def classifyVector(x):\n",
    "    '''\n",
    "    sigmoid函数计算结果\n",
    "    '''\n",
    "    if x >0.5:\n",
    "        return 1.0\n",
    "    else:\n",
    "        return 0.0"
   ]
  },
  {
   "cell_type": "code",
   "execution_count": 284,
   "metadata": {},
   "outputs": [],
   "source": [
    "#逻辑回归的预测结果\n",
    "lg_result = [classifyVector(x) for x in sig]\n",
    "#标签集转列表\n",
    "testLabels.tolist()\n",
    "#将预测结果和真实结果zip打包成元组n\n",
    "zipped = zip(lg_result,testLabels.tolist())\n",
    "n = list(zipped)\n",
    "#计算分类错误率\n",
    "errorRate = len([x for x in n if x[0]-x[1]!=0])/len(n)"
   ]
  },
  {
   "cell_type": "markdown",
   "metadata": {},
   "source": [
    ">上述代码合并如下："
   ]
  },
  {
   "cell_type": "code",
   "execution_count": 334,
   "metadata": {},
   "outputs": [],
   "source": [
    "def errorTest():\n",
    "    '''\n",
    "    错误率计算函数\n",
    "    weights:逻辑回归模型参数\n",
    "    '''\n",
    "    #数据集准备\n",
    "    trainingdataSet,trainingLabels = getDateSet('./horseColicTraining.txt')\n",
    "    testdataSet,testLabels = getDateSet('./horseColicTest.txt')\n",
    "    \n",
    "    #得到参数\n",
    "    weights = stocGradAscent1(trainingdataSet,trainingLabels,10)\n",
    "    #测试，计算w^tx\n",
    "    result = mat(testdataSet)*mat(weights).T\n",
    "    \n",
    "    #sigmoid参数z,是-w^Tx的计算结果，sig\n",
    "    z = result.tolist()\n",
    "    sig = list(map(lambda x:sigmoid(x[0]),result.tolist()))\n",
    "\n",
    "    #逻辑回归的预测结果\n",
    "    lg_result = [classifyVector(x) for x in sig]\n",
    "    #标签集转列表\n",
    "    testLabels.tolist()\n",
    "    #将预测结果和真实结果zip打包成元组n\n",
    "    zipped = zip(lg_result,testLabels.tolist())\n",
    "    n = list(zipped)\n",
    "    #计算分类错误率\n",
    "    errorRate = len([x for x in n if x[0]-x[1]!=0])/len(n)\n",
    "    print('错误率:%f'%errorRate)\n",
    "    return errorRate"
   ]
  },
  {
   "cell_type": "code",
   "execution_count": 335,
   "metadata": {},
   "outputs": [
    {
     "name": "stdout",
     "output_type": "stream",
     "text": [
      "错误率:0.283582\n"
     ]
    },
    {
     "data": {
      "text/plain": [
       "0.2835820895522388"
      ]
     },
     "execution_count": 335,
     "metadata": {},
     "output_type": "execute_result"
    }
   ],
   "source": [
    "errorTest()"
   ]
  },
  {
   "cell_type": "code",
   "execution_count": 336,
   "metadata": {},
   "outputs": [],
   "source": [
    "def multiTest():\n",
    "    numTests = 10;errorSum=0.0\n",
    "    for k in range(numTests):\n",
    "        errorSum += errorTest()\n",
    "    print('经过10次迭代后平均错误率:%f'%(float(errorSum/numTests)))"
   ]
  },
  {
   "cell_type": "code",
   "execution_count": 337,
   "metadata": {},
   "outputs": [
    {
     "name": "stdout",
     "output_type": "stream",
     "text": [
      "错误率:0.268657\n",
      "错误率:0.492537\n",
      "错误率:0.328358\n",
      "错误率:0.253731\n",
      "错误率:0.268657\n",
      "错误率:0.417910\n",
      "错误率:0.358209\n",
      "错误率:0.567164\n",
      "错误率:0.283582\n",
      "错误率:0.328358\n",
      "经过10次迭代后平均错误率:0.356716\n"
     ]
    }
   ],
   "source": [
    "multiTest()"
   ]
  },
  {
   "cell_type": "markdown",
   "metadata": {},
   "source": [
    "## 代码整理"
   ]
  },
  {
   "cell_type": "code",
   "execution_count": 338,
   "metadata": {},
   "outputs": [
    {
     "name": "stdout",
     "output_type": "stream",
     "text": [
      "错误率:0.313433\n",
      "错误率:0.283582\n",
      "错误率:0.462687\n",
      "错误率:0.626866\n",
      "错误率:0.328358\n",
      "错误率:0.268657\n",
      "错误率:0.343284\n",
      "错误率:0.328358\n",
      "错误率:0.268657\n",
      "错误率:0.298507\n",
      "经过10次迭代后平均错误率:0.352239\n"
     ]
    }
   ],
   "source": [
    "def sigmoid(inX):\n",
    "    '''\n",
    "    sigmoid函数\n",
    "    -inX:-wT·x\n",
    "    '''\n",
    "    return 1.0/(1+exp(-inX))\n",
    "\n",
    "def stocGradAscent1(dataMatrix,classLabels,numIter = 150):\n",
    "    '''\n",
    "    改进的随机梯度上升算法\n",
    "    '''\n",
    "    m,n = shape(dataMatrix)\n",
    "    weights = ones(n)\n",
    "    #迭代次数\n",
    "    for j in range(numIter):\n",
    "        dataIndex = range(m)\n",
    "        #样本数量\n",
    "        for i in range(m):\n",
    "            #每次调整a，why?\n",
    "            alpha = 0.01+4/(1.0+j+i)\n",
    "            #uniform-->生成[x,y)之间的随机实数\n",
    "            randIndex = int(random.uniform(0,len(dataIndex)))\n",
    "            h = sigmoid(sum(dataMatrix[randIndex]*weights))\n",
    "            error = classLabels[randIndex] -h\n",
    "            weights = weights + alpha*error*array(dataMatrix[randIndex])\n",
    "    return weights\n",
    "\n",
    "def getDateSet(filepath):\n",
    "    '''\n",
    "    获得训练集和测试集\n",
    "    '''\n",
    "    import numpy as np\n",
    "    \n",
    "    with open(filepath) as f:\n",
    "        file = f.readlines()\n",
    "        arr = []\n",
    "        dataSet = [];Labels=[]#训练集和标签集\n",
    "        for x in file:\n",
    "            mid = x.strip().split('\\t')\n",
    "            vector = list(map(lambda x:float(x),mid))\n",
    "            arr.append(vector)\n",
    "            #用numpy提取数据集以及标签集,加一个x0项\n",
    "            mid2 = np.array(arr)\n",
    "        x0 = array([1]*len(file))\n",
    "        dataSet = np.column_stack((x0,mid2[:,:-1]))\n",
    "        Labels =mid2[:,-1] \n",
    "    return dataSet,Labels\n",
    "\n",
    "\n",
    "def classifyVector(x):\n",
    "    '''\n",
    "    sigmoid函数计算结果分类\n",
    "    '''\n",
    "    if x >0.5:\n",
    "        return 1.0\n",
    "    else:\n",
    "        return 0.0\n",
    "    \n",
    "    \n",
    "if __name__ ==\"__main__\":\n",
    "    multiTest()"
   ]
  },
  {
   "cell_type": "markdown",
   "metadata": {},
   "source": [
    "## 小结\n",
    "学习了逻辑回归算法，愈发感受到只看一本书是没有用的，而且《机器学习实战》一书缺陷明显，代码陈旧复杂，推导过程简陋，属于名副其实的入门书籍。有时候照着书上的代码操作结果就是出不来，令人非常恼火。好了，关于这一章的内容，有以下几个注意事项：\n",
    ">对于逻辑回归模型的本质：__是一个回归模型嵌套在sigmoid函数中，模型借助其阶跃的特点，对样本进行二分类，其问题核心在于求解模型中的参数；从概率的角度来看，由于结果只有0，1，我们认为在拥有数据集的前提下，这些数据往往被取到的概率较大，而概率大小取决于使其取到这些值的参数决定，所以选择某个参数，使得取到数据集的概率最大，这种参数估计方法叫最大似然估计法。关于参数估计，可以使用梯度下降法进行。__\n",
    "\n",
    "随着学习的深入，更加觉得机器学习并非易事，从数据清洗-特征工程-模型选择-算法优化，这些都包含着高深的学问，此外，还需要有一定的数学基础以及编程能力。不禁感慨一句：\n",
    ">路漫漫其修远兮，吾将上下而求索。"
   ]
  }
 ],
 "metadata": {
  "kernelspec": {
   "display_name": "Python 3",
   "language": "python",
   "name": "python3"
  },
  "language_info": {
   "codemirror_mode": {
    "name": "ipython",
    "version": 3
   },
   "file_extension": ".py",
   "mimetype": "text/x-python",
   "name": "python",
   "nbconvert_exporter": "python",
   "pygments_lexer": "ipython3",
   "version": "3.6.5"
  }
 },
 "nbformat": 4,
 "nbformat_minor": 2
}
