{
 "cells": [
  {
   "cell_type": "markdown",
   "metadata": {},
   "source": [
    "# 朴素贝叶斯算法(Naive Bayes)"
   ]
  },
  {
   "cell_type": "markdown",
   "metadata": {},
   "source": [
    ">前两张学习的knn和决策树分类都直接给出了答案，但是不能避免一些分类错误，本章学习的方法给出的是一个最优的类别猜测结果，并且给出概率估计值。\n",
    "\n",
    "* `朴素`一词是因为整个过程都是最原始最简单的假设<特征之间独立性假设>。\n",
    "\n",
    ">是基于贝叶斯定理和特征条件独立假设的分类方法。\n",
    "\n",
    "* 优点：数据少也可以有效，可以处理多分类问题\n",
    "* 缺点：输入数据的准备方式较为敏感"
   ]
  },
  {
   "cell_type": "markdown",
   "metadata": {},
   "source": [
    "__贝叶斯决策理论:__核心就是选择具有最高概率的决策。朴素贝叶斯就是基于贝叶斯决策理论的一种分类方法。"
   ]
  },
  {
   "attachments": {},
   "cell_type": "markdown",
   "metadata": {},
   "source": [
    "## 概率知识复习\n",
    "* 条件概率\n",
    "    - P(A|B) = P(A·B)/P(B)\n",
    "![例子](https://ws1.sinaimg.cn/large/006tNbRwly1fy5hufmoa3j31ek0jqtdy.jpg)\n"
   ]
  },
  {
   "attachments": {
    "image.png": {
     "image/png": "[encoded data removed]"
    }
   },
   "cell_type": "markdown",
   "metadata": {},
   "source": [
    "例题：\n",
    "\n",
    "* P(A·B)-->在B桶中抽到白球的概率-->1/7；\n",
    "* P(B)-->B桶中有3块石头的概率-->3/7；\n",
    "* 根据公式P(A|B) = (1/7)/(3/7) = 1/3\n",
    "\n",
    "__贝叶斯准则__\n",
    "![image.png](attachment:image.png)\n"
   ]
  },
  {
   "cell_type": "markdown",
   "metadata": {},
   "source": [
    "## 用朴素贝叶斯进行文档分类\n",
    "文档分类是机器学习的一个重要应用。可以观察文档中的词，将每个词的出现或者不出现作为一个特征，这样特征数目就等同于词汇表的词数。\n",
    "\n",
    "一般步骤：\n",
    "* 1） 收集数据\n",
    "* 2）准备数据(数值型、布尔型)\n",
    "* 3）分析数据(特征多，用直方图效果好)\n",
    "* 4）训练算法(计算不同独立特征多条件概率)\n",
    "* 5）测试算法(计算错误率)\n",
    "* 6）使用算法(一般应用于文档分类，但也无限制)\n",
    "\n",
    ">通常每个特征需要N个样本，10个特征需要N^10个样本；如果特征相互独立，那么样本数就变成1000*N\n",
    "\n",
    "`独立`：一个特征或者单词出现与它和其它单词相邻没有关系。\n",
    "    * 这个假设也是朴素贝叶斯分类中朴素一词的含义。\n",
    "    * 另一个假设是每个特征都是等重要的，即每个词是等权重的，只考虑词是否出现，不考虑出现次数。"
   ]
  },
  {
   "cell_type": "markdown",
   "metadata": {},
   "source": [
    "## python进行文本分类\n",
    "### 准备数据：词向量构建\n",
    "思路在于：\n",
    "* 构建一个词表，包含文本的所有词，长度是文本中不同词的数量\n",
    "* 对每一句话进行词向量化\n",
    "    - 构建一个同词表等长的0向量\n",
    "    - 判断每句话中的词在词表中是否出现，出现在0向量中相应位置记为1"
   ]
  },
  {
   "cell_type": "code",
   "execution_count": 83,
   "metadata": {
    "scrolled": true
   },
   "outputs": [
    {
     "name": "stdout",
     "output_type": "stream",
     "text": [
      "the vocabulary list is :\n",
      "['to', 'how', 'not', 'dalmation', 'love', 'garbage', 'licks', 'my', 'mr', 'quit', 'so', 'I', 'steak', 'posting', 'food', 'flea', 'take', 'is', 'problems', 'park', 'stupid', 'please', 'him', 'ate', 'help', 'maybe', 'cute', 'worthless', 'has', 'dog', 'stop', 'buying']\n",
      "\n",
      "word2vect of sentence 2 is : \n",
      "[0, 0, 0, 0, 0, 0, 0, 1, 0, 0, 0, 0, 0, 0, 0, 1, 0, 0, 1, 0, 0, 1, 0, 0, 1, 0, 0, 0, 1, 1, 0, 0]\n"
     ]
    }
   ],
   "source": [
    "def loadDataSet():\n",
    "    '''\n",
    "    postingList: 切词后的句子\n",
    "    classVec:数据集对应的分类标签\n",
    "    '''\n",
    "    postingList = [ ['my', 'dog', 'has', 'flea', 'problems', 'help', 'please'],\n",
    "                         ['maybe', 'not', 'take', 'him', 'to', 'dog', 'park', 'stupid'],\n",
    "                         ['my', 'dalmation', 'is', 'so', 'cute', 'I', 'love', 'him'],\n",
    "                         ['stop', 'posting', 'stupid', 'worthless', 'garbage'],\n",
    "                         ['mr', 'licks', 'ate', 'my', 'steak', 'how', 'to', 'stop', 'him'],\n",
    "                         ['quit', 'buying', 'worthless', 'dog', 'food', 'stupid']]\n",
    "    \n",
    "    classVec = [0,1,0,1,0,1]    #1代表侮辱性文字，0代表正常言论\n",
    "    return postingList,classVec\n",
    "\n",
    "def creatVocabList(dataset):\n",
    "    '''\n",
    "    构建词表\n",
    "    output:词表\n",
    "    '''\n",
    "    vocabSet = set([])\n",
    "    for doc in dataset:\n",
    "        vocabSet = vocabSet | set(doc) # 通过对两个集合取并，找出所有非重复的单词\n",
    "    return list(vocabSet)\n",
    "#对于这个函数，自己的思路是将所有句子用extend拼接成一个大list，然后用set来得到词表\n",
    "\n",
    "def Words2Vec(vocabSet, inputSet):\n",
    "    '''\n",
    "    vocabSet：词表\n",
    "    inputSet：输入需要向量化的句子\n",
    "    output：输出文档向量(0,1)形式\n",
    "    '''\n",
    "    return_vec = [0] * len(vocabSet) \n",
    "    # 创建与词汇表等长的列表向量\n",
    "    for word in inputSet:\n",
    "        if word in vocabSet:\n",
    "            return_vec[vocabSet.index(word)] = 1 # 出现的单词赋1\n",
    "        else: print(\"the word %s is not in list\" % word)\n",
    "    return return_vec\n",
    "\n",
    "if __name__=='__main__':\n",
    "    dataSet,labels = loadDataSet()\n",
    "    vocabSet = creatVocabList(dataSet)\n",
    "    wordVect = Words2Vec(vocabSet,dataSet[0])\n",
    "    print('the vocabulary list is :'+'\\n'+repr(vocabSet)+'\\n')\n",
    "    print('word2vect of sentence 2 is : '+'\\n'+repr(wordVect))\n",
    "    trainvec = []\n",
    "    for i in range(len(dataSet)):\n",
    "        wordVect = Words2Vec(vocabSet,dataSet[i])\n",
    "        trainvec.append(wordVect)\n",
    "    trainvec"
   ]
  },
  {
   "attachments": {},
   "cell_type": "markdown",
   "metadata": {},
   "source": [
    "### 训练算法：根据词向量计算概率\n",
    "目的是：输入训练样本和标签，可以得到词表中`每个词是某一类别的概率`。即计算P(Ci|wi)的概率。比如在wi这个词出现的条件下，它是类别1的概率。后验求条件概率需要用到贝叶斯公式。\n",
    "\n",
    ">**朴素贝叶斯分类器就是基于数据集D，估计先验概率P(c)，再对每个属性，估计条件概率P(wi | c).**\n",
    "* 先验概率是属于某个类别的样本集合Dc/样本总数，是横向计算\n",
    "* 条件概率是在上述样本空间内，某个样本属性取值的集合/Dc。纵向计算\n",
    "\n",
    "![贝叶斯公式](https://ws1.sinaimg.cn/large/006tNbRwly1fy5hugaa9uj30x409a761.jpg)\n",
    "W是一个特征向量，长度和词表长度相同；c是对应的类别；P(W) = ∑P(W|ci)·P(ci)全概率公式得到"
   ]
  },
  {
   "cell_type": "code",
   "execution_count": 84,
   "metadata": {
    "scrolled": true
   },
   "outputs": [
    {
     "name": "stdout",
     "output_type": "stream",
     "text": [
      "先验概率 p(c=1) =  0.5\n",
      "每个特征的条件概率 p(w | c=1) =  [0.05263158 0.         0.05263158 0.         0.         0.05263158\n",
      " 0.         0.         0.         0.05263158 0.         0.\n",
      " 0.         0.05263158 0.05263158 0.         0.05263158 0.\n",
      " 0.         0.05263158 0.15789474 0.         0.05263158 0.\n",
      " 0.         0.05263158 0.         0.10526316 0.         0.10526316\n",
      " 0.05263158 0.05263158]\n",
      "c=1,the word with the max Probability=(0.157895), is(stupid)\n",
      "词条属于侮辱性词语的概率排序：[('stupid', 0.15789473684210525), ('worthless', 0.10526315789473684), ('dog', 0.10526315789473684), ('to', 0.05263157894736842), ('not', 0.05263157894736842)]\n"
     ]
    }
   ],
   "source": [
    "import numpy as np\n",
    "def NaiveBayes0(trainMatrix,trainCategory):\n",
    "    '''\n",
    "    用朴素贝叶斯计算先验概率P(ci)和条件概率P(w | ci)\n",
    "    trainMatrix:特征向量组成的矩阵\n",
    "    trainCategory:各特征向量对应的分类\n",
    "    '''\n",
    "    \n",
    "    numTrain = len(trainMatrix) #训练的文档个数\n",
    "    numWords = len(trainMatrix[0]) #词表的大小，即特征的大小\n",
    "    \n",
    "    p1 = sum(trainCategory)/float(numTrain)  #分类1的概率p(y=1)，标签中1出现的次数/总文档数；p(y=0) = 1-p1\n",
    "    p0Num = np.zeros(numWords); p1Num = np.zeros(numWords)      #初始化为0\n",
    "    p0Denom = 0.0; p1Denom = 0.0 \n",
    "    \n",
    "    #对每一个训练文档\n",
    "    for i in range(numTrain):\n",
    "        \n",
    "        #出现侮辱性词语\n",
    "        if trainCategory[i] == 1:\n",
    "            p1Num += trainMatrix[i] \n",
    "            #c=1条件下，统计某个单词出现的个数(因为每个特征向量都是等长的，其中每个词条位置固定，可以直接相加来计算次数)，用于计算p(wi/c=1)\n",
    "            p1Denom += sum(trainMatrix[i]) \n",
    "            #累计c=1的所有单词数量\n",
    "        else:\n",
    "            p0Num += trainMatrix[i] \n",
    "            p0Denom += sum(trainMatrix[i]) \n",
    "            \n",
    "    p1Vect = p1Num/float(p1Denom)     #p(w/c=1)   \n",
    "    p0Vect = p0Num/float(p0Denom)     #p(w/c=0)  \n",
    "    \n",
    "    return p0Vect,p1Vect,p1\n",
    "\n",
    "if __name__ == '__main__':\n",
    "    p0Vect,p1Vect,p1 = NaiveBayes0(trainvec,labels)\n",
    "    print(\"先验概率 p(c=1) = \",p1)  #classVec = [0,1,0,1,0,1] ,so p1=0.5\n",
    "    print(\"每个特征的条件概率 p(w | c=1) = \",p1Vect)\n",
    "    print(\"c=1,the word with the max Probability=(%f), is(%s)\"%(np.max(p1Vect),vocabSet[np.argmax(p1Vect)]))\n",
    "    # 对词条按概率排序\n",
    "    dt = list(p1Vect)\n",
    "    result = dict(list(zip(vocabSet,dt)))\n",
    "    result_sort = sorted(result.items(),key=lambda x:x[1],reverse=True)[0:5]\n",
    "    print('词条属于侮辱性词语的概率排序：'+repr(result_sort))"
   ]
  },
  {
   "cell_type": "markdown",
   "metadata": {},
   "source": [
    ">这个结果表示，在侮辱性的类别中，词条stupid一词是出现频率最高的词，即这个词是侮辱性词语的概率最大。"
   ]
  },
  {
   "attachments": {},
   "cell_type": "markdown",
   "metadata": {},
   "source": [
    "* 在计算多个概率乘积会因为某个概率值为0，导致乘积也为0，可以初始化所有词为1，分母初始化为2。\n",
    "* 小数相乘会出现下溢现象，即四舍五入的时候会变成0，需要取log\n",
    "\n",
    ">统计学习方法里面提到，原来的估计方法是极大似然估计，可以用贝叶斯估计来优化，具体做法如下图：\n",
    "![拉普拉斯平滑](https://ws3.sinaimg.cn/large/006tNbRwly1fy5hyizrs5j30q006udgq.jpg)"
   ]
  },
  {
   "cell_type": "code",
   "execution_count": 85,
   "metadata": {},
   "outputs": [],
   "source": [
    "def NaiveBayes1(trainMatrix,trainCategory):\n",
    "    numTrain = len(trainMatrix) #训练的文档个数\n",
    "    numWords = len(trainMatrix[0]) #词汇表的大小，即特征的大小\n",
    "    p1 = sum(trainCategory)/float(numTrain)  #分类1的概率p(y=1)，这里是二分类，所以，p0=1-p1\n",
    "    p0Num = np.ones(numWords); p1Num = np.ones(numWords)      #change to 1 ,一般sigma = 1\n",
    "    p0Denom = 2.0; p1Denom = 2.0                        # change to 2.0 因为有两个类别\n",
    "    for i in range(numTrain):\n",
    "        if trainCategory[i] == 1:\n",
    "            p1Num += trainMatrix[i] #y=1条件下，统计某个单词出现的个数，用于计算p(w/y=1)\n",
    "            p1Denom += sum(trainMatrix[i]) #累计y=1的所有单词数量\n",
    "        else:\n",
    "            p0Num += trainMatrix[i] #y=0条件下，统计某个单词出现的个数，用于计算p(w/y=0)\n",
    "            p0Denom += sum(trainMatrix[i]) #累计y=0的所有单词数量\n",
    "    p1Vect = np.log(p1Num/float(p1Denom))         #change to log()\n",
    "    p0Vect = np.log(p0Num/float(p0Denom))          #change to log()\n",
    "    return p0Vect,p1Vect,p1"
   ]
  },
  {
   "cell_type": "code",
   "execution_count": 86,
   "metadata": {},
   "outputs": [
    {
     "data": {
      "text/plain": [
       "(array([-2.56494936, -2.56494936, -3.25809654, -2.56494936, -2.56494936,\n",
       "        -3.25809654, -2.56494936, -1.87180218, -2.56494936, -3.25809654,\n",
       "        -2.56494936, -2.56494936, -2.56494936, -3.25809654, -3.25809654,\n",
       "        -2.56494936, -3.25809654, -2.56494936, -2.56494936, -3.25809654,\n",
       "        -3.25809654, -2.56494936, -2.15948425, -2.56494936, -2.56494936,\n",
       "        -3.25809654, -2.56494936, -3.25809654, -2.56494936, -2.56494936,\n",
       "        -2.56494936, -3.25809654]),\n",
       " array([-2.35137526, -3.04452244, -2.35137526, -3.04452244, -3.04452244,\n",
       "        -2.35137526, -3.04452244, -3.04452244, -3.04452244, -2.35137526,\n",
       "        -3.04452244, -3.04452244, -3.04452244, -2.35137526, -2.35137526,\n",
       "        -3.04452244, -2.35137526, -3.04452244, -3.04452244, -2.35137526,\n",
       "        -1.65822808, -3.04452244, -2.35137526, -3.04452244, -3.04452244,\n",
       "        -2.35137526, -3.04452244, -1.94591015, -3.04452244, -1.94591015,\n",
       "        -2.35137526, -2.35137526]),\n",
       " 0.5)"
      ]
     },
     "execution_count": 86,
     "metadata": {},
     "output_type": "execute_result"
    }
   ],
   "source": [
    "NaiveBayes1(trainvec,labels)"
   ]
  },
  {
   "cell_type": "markdown",
   "metadata": {},
   "source": [
    "取log自然就是负值"
   ]
  },
  {
   "cell_type": "markdown",
   "metadata": {},
   "source": [
    "[关于朴素贝叶斯算法推导](https://www.cnblogs.com/liuwu265/p/4685361.html)\n",
    "\n",
    "李航书中关于朴素贝叶斯分类器在最后部分，分母问题上不是很清楚，这篇文章帮助我理解，为什么分母可以约去，只考虑分子部分。"
   ]
  },
  {
   "cell_type": "code",
   "execution_count": 87,
   "metadata": {},
   "outputs": [],
   "source": [
    "def classify(testVec, p0Vec, p1Vec, pClass1):\n",
    "    '''\n",
    "    朴素贝叶斯分类器-->用于计算特征的类别\n",
    "    testVec:特征向量(测试样本)\n",
    "    p0Vect:P(w | c=0)条件概率\n",
    "    p1Vect:P(w | c =1)条件概率\n",
    "    pClass1:P(c = i)先验概率\n",
    "    output:返回分类的结果1:侮辱性，0:非侮辱性。\n",
    "    '''\n",
    "    p1 = sum(testVec * p1Vec) + np.log(pClass1)    #因为是log,ln(a*b) = ln(a)+ln(b)所以这里是求和以及+号操作\n",
    "    #p(c=1/w) = p(w/c=1) * p(c=1)因为根据朴素贝叶斯算法公式，分母是P(C = Ci),分母对于已知的，对估计结果不影响，可以约去；至于乘上testVec,不是很清楚。\n",
    "    \n",
    "    p0 = sum(testVec * p0Vec) + np.log(1.0 - pClass1) #p(y=0) = 1 - p(y=1)\n",
    "    if p1 > p0: #选取最大的概率的类\n",
    "        return 1\n",
    "    else: \n",
    "        return 0"
   ]
  },
  {
   "cell_type": "code",
   "execution_count": 88,
   "metadata": {},
   "outputs": [
    {
     "name": "stdout",
     "output_type": "stream",
     "text": [
      "['love', 'my', 'dalmation'] classified as:  0\n",
      "['stupid', 'garbage'] classified as:  1\n"
     ]
    }
   ],
   "source": [
    "p0V,p1V,p1 = NaiveBayes1(trainvec,labels)\n",
    "test0 = ['love', 'my', 'dalmation']\n",
    "testVec0 = Words2Vec(vocabSet, test0)\n",
    "print(test0,'classified as: ',classify(testVec0,p0V,p1V,p1))\n",
    "test1 = ['stupid', 'garbage']\n",
    "testVec1 = Words2Vec(vocabSet, test1)\n",
    "print(test1,'classified as: ',classify(testVec1,p0V,p1V,p1))"
   ]
  },
  {
   "cell_type": "markdown",
   "metadata": {},
   "source": [
    "## 词袋模型(bag of words model)\n",
    "* 对于每个词是否出现---->词集模型(`set of words model`)\n",
    "* 对于每个词可以多次出现--->词袋模型(`bag of words model`)\n",
    "\n",
    "因此需要对词向量模型做一些修改\n",
    "* 每当遇到一个单词，模型会增加词向量中对应的值，而不是全为1.\n",
    "\n",
    "idea:\n",
    "* 构建一个长度同词表的0向量\n",
    "* 对样本中每个词遍历:\n",
    "    - 判断该词是否在词表中:\n",
    "        - 在,则在0向量相应位置记1"
   ]
  },
  {
   "cell_type": "code",
   "execution_count": 89,
   "metadata": {},
   "outputs": [],
   "source": [
    "def bagOfWordsVec(vocabSet, inputSet):\n",
    "    '''\n",
    "    词袋模型，需要统计某个词条出现的次数\n",
    "    vocabSet:词表\n",
    "    inputSet:一个样本；特征向量\n",
    "    output:词向量\n",
    "    '''\n",
    "    returnVec = [0]*len(vocabSet)\n",
    "    for word in inputSet:\n",
    "        if word in vocabSet:\n",
    "            returnVec[vocabSet.index(word)] += 1 #出现一次，累加一次\n",
    "    return returnVec"
   ]
  },
  {
   "cell_type": "code",
   "execution_count": 90,
   "metadata": {},
   "outputs": [
    {
     "name": "stdout",
     "output_type": "stream",
     "text": [
      "词袋模型的词向量:[0, 0, 0, 0, 0, 0, 0, 0, 0, 0, 0, 0, 0, 0, 0, 0, 0, 0, 0, 0, 1, 0, 0, 0, 0, 0, 0, 0, 0, 1, 0, 0]\n"
     ]
    }
   ],
   "source": [
    "test_Vec = bagOfWordsVec(vocabSet,['i','hate','this','stupid','dog'])\n",
    "print('词袋模型的词向量:'+repr(test_Vec))"
   ]
  },
  {
   "cell_type": "markdown",
   "metadata": {},
   "source": [
    "## 练习-用朴素贝叶斯分类器过滤垃圾邮件\n",
    "__步骤依然是：__\n",
    "* 收集数据\n",
    "* 准备数据-->文件文本向量化\n",
    "* 分析数据\n",
    "* 训练算法-->训练模型\n",
    "* 测试算法-->查看文档分类的错误率\n",
    "* 使用算法-->构建完整程序，并将分类结果以及错误分类情况输出"
   ]
  },
  {
   "cell_type": "markdown",
   "metadata": {},
   "source": [
    ">数据包含已经分类的普通邮件和垃圾邮件各25封,需要做的是将数据集划分成训练集和测试集；将划分好的数据集进行词向量化；将词向量给分类器进行分类；根据标签集统计分类错误率；由于划分数据集是随机的，需要重复多次取均值。\n",
    "\n",
    "idea:\n",
    "* 划分数据集，随机采样-->书上是4:1\n",
    "* 词向量化\n",
    "* 训练\n",
    "* 计算错误率\n",
    "* 重新划分数据集(重复)"
   ]
  },
  {
   "cell_type": "markdown",
   "metadata": {},
   "source": [
    "__准备数据__\n",
    "* 读取文本数据，预处理，只保留文本(需要用到正则表达式)\n"
   ]
  },
  {
   "cell_type": "code",
   "execution_count": 97,
   "metadata": {},
   "outputs": [],
   "source": [
    "import re\n",
    "def textParse(bigString):\n",
    "    '''\n",
    "    字符串处理函数：保留英文字符和数字作为词条，且长度>2\n",
    "    bigString:输入的文本文件\n",
    "    output:返回一个词列表\n",
    "    '''\n",
    "    listOfTokens = re.split(r'\\W*', bigString) #只需要字符和数字\n",
    "    return [tok.lower() for tok in listOfTokens if len(tok) > 2] #变成小写，过滤长度小于3的字符串 "
   ]
  },
  {
   "cell_type": "code",
   "execution_count": 146,
   "metadata": {},
   "outputs": [],
   "source": [
    "def spamTest():\n",
    "    '''\n",
    "    垃圾邮件分类函数\n",
    "    '''\n",
    "    docList=[]; classList = []; fullText =[]\n",
    "    #分别是总邮件列表，邮件对应分类标签集合，所有句子组成的文本\n",
    "    for i in list(range(1,26)): #每个文件夹，有25个文件\n",
    "        wordList = textParse(open('./email/spam/%d.txt' % i,encoding='ISO-8859-1').read())\n",
    "        docList.append(wordList)\n",
    "        fullText.extend(wordList)\n",
    "        classList.append(1)\n",
    "        wordList = textParse(open('./email/ham/%d.txt' % i,encoding='ISO-8859-1').read())\n",
    "        docList.append(wordList)\n",
    "        fullText.extend(wordList)\n",
    "        classList.append(0)\n",
    "    \n",
    "    vocabularyList = creatVocabList(docList)#建总词表\n",
    "    trainingSet =list( range(50)); testSet=[]   #create test set,这里其实是val set，而且只保存了下标\n",
    "    for i in list(range(10)):\n",
    "        randIndex = int(np.random.uniform(0,len(trainingSet)))\n",
    "        testSet.append(trainingSet[randIndex])\n",
    "        del(trainingSet[randIndex])  #随机选取10个，并且从train中删除\n",
    "    '''\n",
    "    抽样将数据集一开始合并成同一个数组比较好，将分类标签全部加在list[0]位置，或者把数据集append方法加在标签集后面便于后续操作。\n",
    "    抽样可方法很多，无非是记住index，然后从数据集中选择，自己选用的是random.sample()函数，从1-50数组中抽样得到index_list，然后划分。\n",
    "    其中用了map(),和filter()方法,可读性更强。\n",
    "    '''  \n",
    "    trainMat=[]; trainClasses = []\n",
    "    for docIndex in trainingSet:#获得索引\n",
    "        trainMat.append(bagOfWordsVec(vocabularyList, docList[docIndex]))\n",
    "        trainClasses.append(classList[docIndex])\n",
    "    p0V,p1V,pSpam = NaiveBayes1(trainMat,trainClasses) #训练，得到条件概率\n",
    "    errorCount = 0\n",
    "    for docIndex in testSet:        #classify the remaining items\n",
    "        wordVector = bagOfWordsVec(vocabularyList, docList[docIndex])\n",
    "        if classify(wordVector,p0V,p1V,pSpam) != classList[docIndex]: #用于test/val\n",
    "            errorCount += 1\n",
    "            #print( \"classification error\",docList[docIndex])\n",
    "    #print('the error rate is: ',float(errorCount)/len(testSet))\n",
    "    return float(errorCount)/len(testSet)"
   ]
  },
  {
   "cell_type": "code",
   "execution_count": 147,
   "metadata": {
    "scrolled": true
   },
   "outputs": [
    {
     "name": "stderr",
     "output_type": "stream",
     "text": [
      "/Users/tony/anaconda3/lib/python3.6/re.py:212: FutureWarning: split() requires a non-empty pattern match.\n",
      "  return _compile(pattern, flags).split(string, maxsplit)\n"
     ]
    },
    {
     "data": {
      "text/plain": [
       "0.1"
      ]
     },
     "execution_count": 147,
     "metadata": {},
     "output_type": "execute_result"
    }
   ],
   "source": [
    "spamTest()"
   ]
  },
  {
   "cell_type": "markdown",
   "metadata": {},
   "source": [
    "### 留出法\n",
    "由于随机划分数据集是随机的，单次划分结果不够稳定，需要多次重复取均值"
   ]
  },
  {
   "cell_type": "code",
   "execution_count": 148,
   "metadata": {},
   "outputs": [
    {
     "name": "stderr",
     "output_type": "stream",
     "text": [
      "/Users/tony/anaconda3/lib/python3.6/re.py:212: FutureWarning: split() requires a non-empty pattern match.\n",
      "  return _compile(pattern, flags).split(string, maxsplit)\n"
     ]
    },
    {
     "name": "stdout",
     "output_type": "stream",
     "text": [
      "20次重复划分数据集的平均误差：0.050000\n"
     ]
    }
   ],
   "source": [
    "Er = []\n",
    "for i in range(20):\n",
    "    error = spamTest()\n",
    "    Er.extend([error])\n",
    "mean_error = sum(Er)/20\n",
    "print('20次重复划分数据集的平均误差：%f'%mean_error)"
   ]
  },
  {
   "cell_type": "markdown",
   "metadata": {},
   "source": [
    "__关于抽样的一些想法和实现__\n",
    "* 1.用random.sample()对数组抽样，得到训练集index\n",
    "* 2.用map(),从未划分的数据集中，按index索引取样\n",
    "* 3.用filter(),得到测试集的index\n",
    "* 4.同2"
   ]
  },
  {
   "cell_type": "code",
   "execution_count": 133,
   "metadata": {
    "scrolled": true
   },
   "outputs": [],
   "source": [
    "def splitDataSet(docList,classList,size):\n",
    "    '''\n",
    "    随机抽样-数据集划分\n",
    "    docList:未划分的训练集\n",
    "    classList:未划分的标签集\n",
    "    sample:采样大小\n",
    "    output:划分后的训练集、测试集及其对应的分类标签\n",
    "    '''\n",
    "    import random\n",
    "    #训练集\n",
    "    index_train = random.sample(range(50),size)\n",
    "    trainSet = list(map(lambda x:docList[x],index_train))\n",
    "    classSet_train = list(map(lambda x:classList[x],index_train))\n",
    "    #测试集\n",
    "    index_test = list(filter(lambda x:x not in index_train,range(50)))\n",
    "    testSet = list(map(lambda x:docList[x],index_test))\n",
    "    classSet_test = list(map(lambda x:classList[x],index_test))\n",
    "    return trainSet,classSet_train,testSet,classSet_test"
   ]
  },
  {
   "cell_type": "code",
   "execution_count": 60,
   "metadata": {},
   "outputs": [],
   "source": [
    "dtrain,labeltrain,dtest,labeltest = splitDataSet(docList,classList,40)"
   ]
  },
  {
   "cell_type": "markdown",
   "metadata": {},
   "source": [
    "## 小结\n",
    "关于朴素贝叶斯算法，核心在于通过朴素贝叶斯公式和‘朴素’这个特点，即通过假设随机变量之间两两独立，从而简化了特征之间的关系，利用先验概率和条件概率，来估算后验概率，选择后验概率中的最大概率，来确定最终的类别。\n",
    ">主要有以下几个注意点：\n",
    "* `词向量化(word2Vector)`：主要是通过构造词表，即将切词后的所有文本组成一个集合，组成一个n维的词向量，每个词在相应的位置，出现记1，不出现记0。\n",
    "* `词集模型(set of words model)`:就是将词是否出现作为判断依据，只考虑是否出现，而不考虑出现的次数。\n",
    "* `词袋模型(bag of words model)`:将词出现的次数考虑在内，来生成词向量。\n",
    "* `朴素`的含义：对条件概率做了独立性假设，假设各特征属性之间相互独立。\n",
    "* 对于`后验概率最大化`，李航书中解释是等价于`期望风险最小化`，具体可以看推导过程。\n",
    "* 由于用朴素贝叶斯法的参数估计采用的是`极大似然估计`，可能会出现特征属性集合为0而导致估计的概率乘积为0，导致结果出现偏差，需要用到贝叶斯估计来修正，通常在随机变量各取值频数上加一个正数λ，=0是极大似然估计，=1是`拉普拉斯平滑`，通常分子是λ，分母是Kλ,K表示分类类别数量。\n",
    "* `下溢问题`(太小的数相乘导致取值近似为0)可以用取对数来解决，要降低错误率可以通过去停用词等方法改进。"
   ]
  }
 ],
 "metadata": {
  "kernelspec": {
   "display_name": "Python 3",
   "language": "python",
   "name": "python3"
  },
  "language_info": {
   "codemirror_mode": {
    "name": "ipython",
    "version": 3
   },
   "file_extension": ".py",
   "mimetype": "text/x-python",
   "name": "python",
   "nbconvert_exporter": "python",
   "pygments_lexer": "ipython3",
   "version": "3.6.5"
  }
 },
 "nbformat": 4,
 "nbformat_minor": 2
}
